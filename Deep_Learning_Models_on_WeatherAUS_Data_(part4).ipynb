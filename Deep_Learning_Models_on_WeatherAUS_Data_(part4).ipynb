{
  "nbformat": 4,
  "nbformat_minor": 0,
  "metadata": {
    "colab": {
      "name": "Deep Learning Models on WeatherAUS Data (part4).ipynb",
      "provenance": [],
      "collapsed_sections": []
    },
    "kernelspec": {
      "name": "python3",
      "display_name": "Python 3"
    },
    "language_info": {
      "name": "python"
    }
  },
  "cells": [
    {
      "cell_type": "code",
      "metadata": {
        "id": "auN6jHOOPG-1",
        "colab": {
          "base_uri": "https://localhost:8080/"
        },
        "outputId": "9921e7b4-89a1-4f20-ba28-fdb669204ac7"
      },
      "source": [
        "from google.colab import drive\n",
        "drive.mount(\"/content/drive\")"
      ],
      "execution_count": 1,
      "outputs": [
        {
          "output_type": "stream",
          "name": "stdout",
          "text": [
            "Mounted at /content/drive\n"
          ]
        }
      ]
    },
    {
      "cell_type": "code",
      "metadata": {
        "id": "YkU4-NuqPP-S"
      },
      "source": [
        "import pandas as pd\n",
        "import numpy as np\n",
        "from sklearn.metrics import classification_report\n",
        "from ipywidgets import interact,interact_manual\n",
        "import seaborn as sns\n",
        "import matplotlib.pyplot as plt\n",
        "import pickle\n",
        "import tensorflow as tf\n",
        "from sklearn.model_selection import train_test_split\n",
        "from tensorflow import keras\n",
        "import warnings\n",
        "warnings.filterwarnings(\"ignore\")"
      ],
      "execution_count": 11,
      "outputs": []
    },
    {
      "cell_type": "code",
      "metadata": {
        "id": "5xysCcxwPQCt"
      },
      "source": [
        "x=pickle.load(open(\"/content/drive/MyDrive/datasets/newdata1/RE_X.pkl\",\"rb\"))\n",
        "y=pickle.load(open(\"/content/drive/MyDrive/datasets/newdata1/RE_Y.pkl\",\"rb\"))"
      ],
      "execution_count": 5,
      "outputs": []
    },
    {
      "cell_type": "code",
      "metadata": {
        "id": "KW43FWKUPQH_",
        "colab": {
          "base_uri": "https://localhost:8080/"
        },
        "outputId": "1626c0d3-2c40-47b9-a24f-c076d767ecfc"
      },
      "source": [
        "x.shape"
      ],
      "execution_count": 8,
      "outputs": [
        {
          "output_type": "execute_result",
          "data": {
            "text/plain": [
              "(161726, 21)"
            ]
          },
          "metadata": {},
          "execution_count": 8
        }
      ]
    },
    {
      "cell_type": "code",
      "metadata": {
        "id": "qoFxFPdBxYHA"
      },
      "source": [
        "x_train,x_test,y_train,y_test=train_test_split(x,y,test_size=0.2)"
      ],
      "execution_count": 12,
      "outputs": []
    },
    {
      "cell_type": "markdown",
      "metadata": {
        "id": "XF-TZ0gMv_v6"
      },
      "source": [
        "# **Artificial Neural network & FNN**"
      ]
    },
    {
      "cell_type": "code",
      "metadata": {
        "id": "x_03I2HZPQO8",
        "colab": {
          "base_uri": "https://localhost:8080/"
        },
        "outputId": "59870a6e-b530-4e0a-9be5-60e6ec0e1b5b"
      },
      "source": [
        "ann=keras.models.Sequential([\n",
        "                             keras.layers.Input(shape=x.shape[1]),\n",
        "                             keras.layers.Dense(300,activation=\"relu\"),\n",
        "                             keras.layers.Dense(150,activation=\"relu\"),\n",
        "                             keras.layers.Dense(75,activation=\"relu\"),\n",
        "                             keras.layers.Dense(10,activation=\"relu\"),\n",
        "                             keras.layers.Dense(2,activation=\"sigmoid\")\n",
        "])\n",
        "ann.compile(optimizer=\"Adam\",loss=\"sparse_categorical_crossentropy\",metrics=\"accuracy\")\n",
        "ANN_MODEL=ann.fit(x_train,y_train,epochs=10)"
      ],
      "execution_count": 58,
      "outputs": [
        {
          "output_type": "stream",
          "name": "stdout",
          "text": [
            "Epoch 1/10\n",
            "4044/4044 [==============================] - 11s 3ms/step - loss: 0.4425 - accuracy: 0.8129\n",
            "Epoch 2/10\n",
            "4044/4044 [==============================] - 11s 3ms/step - loss: 0.3426 - accuracy: 0.8456\n",
            "Epoch 3/10\n",
            "4044/4044 [==============================] - 11s 3ms/step - loss: 0.3301 - accuracy: 0.8532\n",
            "Epoch 4/10\n",
            "4044/4044 [==============================] - 11s 3ms/step - loss: 0.3230 - accuracy: 0.8565\n",
            "Epoch 5/10\n",
            "4044/4044 [==============================] - 11s 3ms/step - loss: 0.3163 - accuracy: 0.8612\n",
            "Epoch 6/10\n",
            "4044/4044 [==============================] - 11s 3ms/step - loss: 0.3127 - accuracy: 0.8630\n",
            "Epoch 7/10\n",
            "4044/4044 [==============================] - 11s 3ms/step - loss: 0.3100 - accuracy: 0.8632\n",
            "Epoch 8/10\n",
            "4044/4044 [==============================] - 11s 3ms/step - loss: 0.3080 - accuracy: 0.8649\n",
            "Epoch 9/10\n",
            "4044/4044 [==============================] - 11s 3ms/step - loss: 0.3062 - accuracy: 0.8659\n",
            "Epoch 10/10\n",
            "4044/4044 [==============================] - 10s 3ms/step - loss: 0.3043 - accuracy: 0.8665\n"
          ]
        }
      ]
    },
    {
      "cell_type": "code",
      "metadata": {
        "id": "CE1GFVJJDD6n"
      },
      "source": [
        " ann.save(\"/content/drive/MyDrive/datasets/newdata1/ANN_MODEL.h5\")"
      ],
      "execution_count": 59,
      "outputs": []
    },
    {
      "cell_type": "code",
      "metadata": {
        "colab": {
          "base_uri": "https://localhost:8080/",
          "height": 265
        },
        "id": "_TGQ1i3Sw2NR",
        "outputId": "bb376dea-3f53-47fe-a0cd-90bbf45d6391"
      },
      "source": [
        "pd.DataFrame(ANN_MODEL.history).plot()\n",
        "plt.grid()\n",
        "plt.show()"
      ],
      "execution_count": 21,
      "outputs": [
        {
          "output_type": "display_data",
          "data": {
            "image/png": "[encoded data removed]",
            "text/plain": [
              "<Figure size 432x288 with 1 Axes>"
            ]
          },
          "metadata": {
            "needs_background": "light"
          }
        }
      ]
    },
    {
      "cell_type": "markdown",
      "metadata": {
        "id": "3GIfFZDGylrD"
      },
      "source": [
        "# Funtional API"
      ]
    },
    {
      "cell_type": "code",
      "metadata": {
        "colab": {
          "base_uri": "https://localhost:8080/"
        },
        "id": "Nn91bL8vxQGe",
        "outputId": "3b8f8440-d5b4-4d3e-ecd5-db7e2b962dca"
      },
      "source": [
        "input_=keras.layers.Input(shape=x.shape[1])\n",
        "hidden1=keras.layers.Dense(300,activation=\"relu\")(input_)\n",
        "hidden2=keras.layers.Dense(150,activation=\"relu\")(hidden1)\n",
        "hidden3=keras.layers.Dense(75,activation=\"relu\")(hidden2)\n",
        "hidden4=keras.layers.Dense(10,activation=\"relu\")(hidden3)\n",
        "concat=keras.layers.concatenate([hidden4,input_])\n",
        "output=keras.layers.Dense(2,activation=\"sigmoid\")(concat)\n",
        "FUN_API=keras.models.Model(inputs=[input_],outputs=[output])\n",
        "FUN_API.compile(optimizer=\"adam\",loss=\"sparse_categorical_crossentropy\",metrics=\"accuracy\")\n",
        "FUN_API_hist=FUN_API.fit(x_train,y_train,epochs=10)"
      ],
      "execution_count": 26,
      "outputs": [
        {
          "output_type": "stream",
          "name": "stdout",
          "text": [
            "Epoch 1/10\n",
            "4044/4044 [==============================] - 12s 3ms/step - loss: 1.5247 - accuracy: 0.7867\n",
            "Epoch 2/10\n",
            "4044/4044 [==============================] - 11s 3ms/step - loss: 0.7432 - accuracy: 0.8061\n",
            "Epoch 3/10\n",
            "4044/4044 [==============================] - 12s 3ms/step - loss: 0.6049 - accuracy: 0.8113\n",
            "Epoch 4/10\n",
            "4044/4044 [==============================] - 11s 3ms/step - loss: 0.4932 - accuracy: 0.8204\n",
            "Epoch 5/10\n",
            "4044/4044 [==============================] - 12s 3ms/step - loss: 0.4216 - accuracy: 0.8325\n",
            "Epoch 6/10\n",
            "4044/4044 [==============================] - 12s 3ms/step - loss: 0.3879 - accuracy: 0.8395\n",
            "Epoch 7/10\n",
            "4044/4044 [==============================] - 11s 3ms/step - loss: 0.3641 - accuracy: 0.8441\n",
            "Epoch 8/10\n",
            "4044/4044 [==============================] - 12s 3ms/step - loss: 0.3570 - accuracy: 0.8460\n",
            "Epoch 9/10\n",
            "4044/4044 [==============================] - 11s 3ms/step - loss: 0.3480 - accuracy: 0.8485\n",
            "Epoch 10/10\n",
            "4044/4044 [==============================] - 11s 3ms/step - loss: 0.3425 - accuracy: 0.8506\n"
          ]
        }
      ]
    },
    {
      "cell_type": "code",
      "metadata": {
        "colab": {
          "base_uri": "https://localhost:8080/",
          "height": 265
        },
        "id": "fQPWGyWTz0Eq",
        "outputId": "598f8a96-64ac-47ff-96c0-85d15317e7e4"
      },
      "source": [
        "pd.DataFrame(FUN_API_hist.history).plot()\n",
        "plt.grid()\n",
        "plt.show()"
      ],
      "execution_count": 27,
      "outputs": [
        {
          "output_type": "display_data",
          "data": {
            "image/png": "[encoded data removed]",
            "text/plain": [
              "<Figure size 432x288 with 1 Axes>"
            ]
          },
          "metadata": {
            "needs_background": "light"
          }
        }
      ]
    },
    {
      "cell_type": "markdown",
      "metadata": {
        "id": "J-le-VIk1Ea-"
      },
      "source": [
        "# Densed Functional API"
      ]
    },
    {
      "cell_type": "code",
      "metadata": {
        "colab": {
          "base_uri": "https://localhost:8080/"
        },
        "id": "OTqWggGq099x",
        "outputId": "2ef3b749-f4de-4474-cf5d-6d99a2d8e102"
      },
      "source": [
        "input_=keras.layers.Input(shape=x.shape[1])\n",
        "hidden1=keras.layers.Dense(300,activation=\"relu\")(input_)\n",
        "concat_1=keras.layers.concatenate([input_,hidden1])\n",
        "hidden2=keras.layers.Dense(150,activation=\"relu\")(concat_1)\n",
        "concat_2=keras.layers.concatenate([input_,hidden2])\n",
        "hidden3=keras.layers.Dense(75,activation=\"relu\")(concat_2)\n",
        "concat_3=keras.layers.concatenate([input_,hidden3])\n",
        "hidden4=keras.layers.Dense(10,activation=\"relu\")(concat_3)\n",
        "concat_4=keras.layers.concatenate([input_,hidden4])\n",
        "output=keras.layers.Dense(2,activation=\"sigmoid\")(concat_4)\n",
        "FUN_API=keras.models.Model(inputs=[input_],outputs=[output])\n",
        "FUN_API.compile(optimizer=\"adam\",loss=\"sparse_categorical_crossentropy\",metrics=\"accuracy\")\n",
        "Densed_FUN_API_hist=FUN_API.fit(x_train,y_train,epochs=10)"
      ],
      "execution_count": 29,
      "outputs": [
        {
          "output_type": "stream",
          "name": "stdout",
          "text": [
            "Epoch 1/10\n",
            "4044/4044 [==============================] - 13s 3ms/step - loss: 2.4857 - accuracy: 0.7871\n",
            "Epoch 2/10\n",
            "4044/4044 [==============================] - 12s 3ms/step - loss: 0.9367 - accuracy: 0.8030\n",
            "Epoch 3/10\n",
            "4044/4044 [==============================] - 12s 3ms/step - loss: 0.7651 - accuracy: 0.8081\n",
            "Epoch 4/10\n",
            "4044/4044 [==============================] - 12s 3ms/step - loss: 0.7002 - accuracy: 0.8129\n",
            "Epoch 5/10\n",
            "4044/4044 [==============================] - 12s 3ms/step - loss: 0.5650 - accuracy: 0.8193\n",
            "Epoch 6/10\n",
            "4044/4044 [==============================] - 12s 3ms/step - loss: 0.5398 - accuracy: 0.8208\n",
            "Epoch 7/10\n",
            "4044/4044 [==============================] - 12s 3ms/step - loss: 0.4987 - accuracy: 0.8238\n",
            "Epoch 8/10\n",
            "4044/4044 [==============================] - 13s 3ms/step - loss: 0.4830 - accuracy: 0.8262\n",
            "Epoch 9/10\n",
            "4044/4044 [==============================] - 12s 3ms/step - loss: 0.4486 - accuracy: 0.8316\n",
            "Epoch 10/10\n",
            "4044/4044 [==============================] - 12s 3ms/step - loss: 0.4409 - accuracy: 0.8320\n"
          ]
        }
      ]
    },
    {
      "cell_type": "code",
      "metadata": {
        "colab": {
          "base_uri": "https://localhost:8080/",
          "height": 265
        },
        "id": "bJbeeMY11iJ7",
        "outputId": "de15b8b0-25b6-4e2a-9834-a4ea13240232"
      },
      "source": [
        "pd.DataFrame(Densed_FUN_API_hist.history).plot()\n",
        "plt.grid()\n",
        "plt.show()"
      ],
      "execution_count": 31,
      "outputs": [
        {
          "output_type": "display_data",
          "data": {
            "image/png": "[encoded data removed]",
            "text/plain": [
              "<Figure size 432x288 with 1 Axes>"
            ]
          },
          "metadata": {
            "needs_background": "light"
          }
        }
      ]
    },
    {
      "cell_type": "markdown",
      "metadata": {
        "id": "alEp4J_117w0"
      },
      "source": [
        "# Densed Functional API with different layers"
      ]
    },
    {
      "cell_type": "code",
      "metadata": {
        "colab": {
          "base_uri": "https://localhost:8080/"
        },
        "id": "ctB0og0l17IZ",
        "outputId": "4b3839d9-cf2e-4f91-e327-ef3cb8c5b576"
      },
      "source": [
        "input_=keras.layers.Input(shape=x.shape[1])\n",
        "hidden1=keras.layers.Dense(300,activation=\"relu\")(input_)\n",
        "concat_1=keras.layers.concatenate([input_,hidden1])\n",
        "hidden2=keras.layers.Dense(150,activation=\"relu\")(concat_1)\n",
        "concat_2=keras.layers.concatenate([hidden1,hidden2])\n",
        "hidden3=keras.layers.Dense(75,activation=\"relu\")(concat_2)\n",
        "concat_3=keras.layers.concatenate([hidden2,hidden3])\n",
        "hidden4=keras.layers.Dense(10,activation=\"relu\")(concat_3)\n",
        "concat_4=keras.layers.concatenate([hidden3,hidden4])\n",
        "output=keras.layers.Dense(2,activation=\"sigmoid\")(concat_4)\n",
        "FUN_API=keras.models.Model(inputs=[input_],outputs=[output])\n",
        "FUN_API.compile(optimizer=\"adam\",loss=\"sparse_categorical_crossentropy\",metrics=\"accuracy\")\n",
        "Comples_Densed_FUN_API_hist=FUN_API.fit(x_train,y_train,epochs=10)"
      ],
      "execution_count": 34,
      "outputs": [
        {
          "output_type": "stream",
          "name": "stdout",
          "text": [
            "Epoch 1/10\n",
            "4044/4044 [==============================] - 14s 3ms/step - loss: 1.9774 - accuracy: 0.7908\n",
            "Epoch 2/10\n",
            "4044/4044 [==============================] - 14s 3ms/step - loss: 0.9786 - accuracy: 0.8057\n",
            "Epoch 3/10\n",
            "4044/4044 [==============================] - 14s 3ms/step - loss: 0.8805 - accuracy: 0.8052\n",
            "Epoch 4/10\n",
            "4044/4044 [==============================] - 14s 3ms/step - loss: 0.8103 - accuracy: 0.8054\n",
            "Epoch 5/10\n",
            "4044/4044 [==============================] - 14s 3ms/step - loss: 0.6561 - accuracy: 0.8113\n",
            "Epoch 6/10\n",
            "4044/4044 [==============================] - 14s 3ms/step - loss: 0.5914 - accuracy: 0.8162\n",
            "Epoch 7/10\n",
            "4044/4044 [==============================] - 14s 3ms/step - loss: 0.5637 - accuracy: 0.8164\n",
            "Epoch 8/10\n",
            "4044/4044 [==============================] - 14s 3ms/step - loss: 0.5135 - accuracy: 0.8227\n",
            "Epoch 9/10\n",
            "4044/4044 [==============================] - 14s 3ms/step - loss: 0.4813 - accuracy: 0.8245\n",
            "Epoch 10/10\n",
            "4044/4044 [==============================] - 14s 3ms/step - loss: 0.4840 - accuracy: 0.8246\n"
          ]
        }
      ]
    },
    {
      "cell_type": "code",
      "metadata": {
        "colab": {
          "base_uri": "https://localhost:8080/",
          "height": 265
        },
        "id": "B7PZdXLn2Zhz",
        "outputId": "6c022e42-7603-439c-98c2-99972a0f258b"
      },
      "source": [
        "pd.DataFrame(Comples_Densed_FUN_API_hist.history).plot()\n",
        "plt.grid()\n",
        "plt.show()"
      ],
      "execution_count": 35,
      "outputs": [
        {
          "output_type": "display_data",
          "data": {
            "image/png": "[encoded data removed]",
            "text/plain": [
              "<Figure size 432x288 with 1 Axes>"
            ]
          },
          "metadata": {
            "needs_background": "light"
          }
        }
      ]
    },
    {
      "cell_type": "code",
      "metadata": {
        "id": "kVZq3MXV4aWI"
      },
      "source": [
        "X_TRAIN=x_train.reshape(x_train.shape[0],x_train.shape[1],1)\n",
        "X_TEST=x_test.reshape(x_test.shape[0],x_test.shape[1],1)"
      ],
      "execution_count": 37,
      "outputs": []
    },
    {
      "cell_type": "code",
      "metadata": {
        "colab": {
          "base_uri": "https://localhost:8080/"
        },
        "id": "TsXPSJ855OJf",
        "outputId": "9e0a742d-4474-48e5-8977-1db7cfcf4a9b"
      },
      "source": [
        "X_TRAIN.shape[0]"
      ],
      "execution_count": 44,
      "outputs": [
        {
          "output_type": "execute_result",
          "data": {
            "text/plain": [
              "129380"
            ]
          },
          "metadata": {},
          "execution_count": 44
        }
      ]
    },
    {
      "cell_type": "code",
      "metadata": {
        "colab": {
          "base_uri": "https://localhost:8080/"
        },
        "id": "6O7vcY5v28Bo",
        "outputId": "f0b4cd1b-da91-4e5d-90bc-76dcd2f3c7e0"
      },
      "source": [
        "RNN=keras.models.Sequential([\n",
        "                             keras.layers.SimpleRNN(300,activation=\"relu\",input_shape=(21,1),return_sequences=True),\n",
        "                             keras.layers.SimpleRNN(150,activation=\"relu\"),\n",
        "                             keras.layers.Dense(75,activation=\"relu\"),\n",
        "                             keras.layers.Dense(2,activation=\"sigmoid\")\n",
        "])\n",
        "RNN.compile(optimizer=\"Adam\",loss=\"sparse_categorical_crossentropy\",metrics=\"accuracy\")\n",
        "RNN_MODEL=RNN.fit(X_TRAIN,y_train,epochs=10)"
      ],
      "execution_count": 54,
      "outputs": [
        {
          "output_type": "stream",
          "name": "stdout",
          "text": [
            "Epoch 1/10\n",
            "4044/4044 [==============================] - 152s 37ms/step - loss: 0.7951 - accuracy: 0.8188\n",
            "Epoch 2/10\n",
            "4044/4044 [==============================] - 151s 37ms/step - loss: 0.3259 - accuracy: 0.8590\n",
            "Epoch 3/10\n",
            "4044/4044 [==============================] - 151s 37ms/step - loss: 0.3205 - accuracy: 0.8610\n",
            "Epoch 4/10\n",
            "4044/4044 [==============================] - 151s 37ms/step - loss: 0.3063 - accuracy: 0.8671\n",
            "Epoch 5/10\n",
            "4044/4044 [==============================] - 151s 37ms/step - loss: 0.2936 - accuracy: 0.8728\n",
            "Epoch 6/10\n",
            "4044/4044 [==============================] - 151s 37ms/step - loss: 0.2823 - accuracy: 0.8779\n",
            "Epoch 7/10\n",
            "4044/4044 [==============================] - 152s 38ms/step - loss: 0.2763 - accuracy: 0.8802\n",
            "Epoch 8/10\n",
            "4044/4044 [==============================] - 154s 38ms/step - loss: 0.2739 - accuracy: 0.8804\n",
            "Epoch 9/10\n",
            "4044/4044 [==============================] - 154s 38ms/step - loss: 0.2709 - accuracy: 0.8827\n",
            "Epoch 10/10\n",
            "4044/4044 [==============================] - 153s 38ms/step - loss: 0.2677 - accuracy: 0.8848\n"
          ]
        }
      ]
    },
    {
      "cell_type": "code",
      "metadata": {
        "colab": {
          "base_uri": "https://localhost:8080/",
          "height": 265
        },
        "id": "euBFzXmU4S4Z",
        "outputId": "40873371-3da3-45e5-d0b0-f3aefba287e1"
      },
      "source": [
        "pd.DataFrame(RNN_MODEL.history).plot()\n",
        "plt.grid()\n",
        "plt.show()"
      ],
      "execution_count": 55,
      "outputs": [
        {
          "output_type": "display_data",
          "data": {
            "image/png": "[encoded data removed]",
            "text/plain": [
              "<Figure size 432x288 with 1 Axes>"
            ]
          },
          "metadata": {
            "needs_background": "light"
          }
        }
      ]
    },
    {
      "cell_type": "code",
      "metadata": {
        "id": "uAP_ltYIBfUm"
      },
      "source": [
        " RNN.save(\"/content/drive/MyDrive/datasets/newdata1/RNN_MODEL.h5\")"
      ],
      "execution_count": 57,
      "outputs": []
    },
    {
      "cell_type": "code",
      "metadata": {
        "id": "D2JA6RuuBiX-"
      },
      "source": [
        ""
      ],
      "execution_count": null,
      "outputs": []
    },
    {
      "cell_type": "code",
      "metadata": {
        "id": "xvsMIHg0Bicy"
      },
      "source": [
        ""
      ],
      "execution_count": null,
      "outputs": []
    },
    {
      "cell_type": "code",
      "metadata": {
        "id": "5PQomCb_BihD"
      },
      "source": [
        ""
      ],
      "execution_count": null,
      "outputs": []
    },
    {
      "cell_type": "code",
      "metadata": {
        "id": "zmzDadvZBilE"
      },
      "source": [
        ""
      ],
      "execution_count": null,
      "outputs": []
    }
  ]
}