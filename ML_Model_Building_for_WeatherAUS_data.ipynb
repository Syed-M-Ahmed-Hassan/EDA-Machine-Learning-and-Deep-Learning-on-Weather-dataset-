{
  "nbformat": 4,
  "nbformat_minor": 0,
  "metadata": {
    "colab": {
      "name": "ML Model Building for WeatherAUS data.ipynb",
      "provenance": []
    },
    "kernelspec": {
      "name": "python3",
      "display_name": "Python 3"
    },
    "language_info": {
      "name": "python"
    },
    "widgets": {
      "application/vnd.jupyter.widget-state+json": {
        "dc221a83782841f59b4dd2209041840a": {
          "model_module": "@jupyter-widgets/controls",
          "model_name": "VBoxModel",
          "model_module_version": "1.5.0",
          "state": {
            "_view_name": "VBoxView",
            "_dom_classes": [
              "widget-interact"
            ],
            "_model_name": "VBoxModel",
            "_view_module": "@jupyter-widgets/controls",
            "_model_module_version": "1.5.0",
            "_view_count": null,
            "_view_module_version": "1.5.0",
            "box_style": "",
            "layout": "IPY_MODEL_72dc20f9e49f462dae69e126b35f4101",
            "_model_module": "@jupyter-widgets/controls",
            "children": [
              "IPY_MODEL_7424cad726d940cebe42076ac97f4909",
              "IPY_MODEL_2487c685e4f9428cba2ebb56d27d7142",
              "IPY_MODEL_9e9458a7593c4df886809248f5a8685a"
            ]
          }
        },
        "72dc20f9e49f462dae69e126b35f4101": {
          "model_module": "@jupyter-widgets/base",
          "model_name": "LayoutModel",
          "model_module_version": "1.2.0",
          "state": {
            "_view_name": "LayoutView",
            "grid_template_rows": null,
            "right": null,
            "justify_content": null,
            "_view_module": "@jupyter-widgets/base",
            "overflow": null,
            "_model_module_version": "1.2.0",
            "_view_count": null,
            "flex_flow": null,
            "width": null,
            "min_width": null,
            "border": null,
            "align_items": null,
            "bottom": null,
            "_model_module": "@jupyter-widgets/base",
            "top": null,
            "grid_column": null,
            "overflow_y": null,
            "overflow_x": null,
            "grid_auto_flow": null,
            "grid_area": null,
            "grid_template_columns": null,
            "flex": null,
            "_model_name": "LayoutModel",
            "justify_items": null,
            "grid_row": null,
            "max_height": null,
            "align_content": null,
            "visibility": null,
            "align_self": null,
            "height": null,
            "min_height": null,
            "padding": null,
            "grid_auto_rows": null,
            "grid_gap": null,
            "max_width": null,
            "order": null,
            "_view_module_version": "1.2.0",
            "grid_template_areas": null,
            "object_position": null,
            "object_fit": null,
            "grid_auto_columns": null,
            "margin": null,
            "display": null,
            "left": null
          }
        },
        "7424cad726d940cebe42076ac97f4909": {
          "model_module": "@jupyter-widgets/controls",
          "model_name": "DropdownModel",
          "model_module_version": "1.5.0",
          "state": {
            "_options_labels": [
              "LogisticRegression()",
              "RandomForestClassifier()",
              "LinearDiscriminantAnalysis()"
            ],
            "_view_name": "DropdownView",
            "style": "IPY_MODEL_27a0fc2ff0d044b6bf70cb974db3c74c",
            "_dom_classes": [],
            "description": "Model",
            "_model_name": "DropdownModel",
            "index": 2,
            "_view_module": "@jupyter-widgets/controls",
            "_model_module_version": "1.5.0",
            "_view_count": null,
            "disabled": false,
            "_view_module_version": "1.5.0",
            "description_tooltip": null,
            "_model_module": "@jupyter-widgets/controls",
            "layout": "IPY_MODEL_54d8d88c5cbe471da50874aa5b0cd31e"
          }
        },
        "2487c685e4f9428cba2ebb56d27d7142": {
          "model_module": "@jupyter-widgets/controls",
          "model_name": "ButtonModel",
          "model_module_version": "1.5.0",
          "state": {
            "_view_name": "ButtonView",
            "style": "IPY_MODEL_5366d9a874be4f748fe9e4440d1d13d6",
            "_dom_classes": [],
            "description": "Run Interact",
            "_model_name": "ButtonModel",
            "button_style": "",
            "_view_module": "@jupyter-widgets/controls",
            "_model_module_version": "1.5.0",
            "tooltip": "",
            "_view_count": null,
            "disabled": false,
            "_view_module_version": "1.5.0",
            "layout": "IPY_MODEL_b1879e22985c4ac29a3e62de829cfc37",
            "_model_module": "@jupyter-widgets/controls",
            "icon": ""
          }
        },
        "9e9458a7593c4df886809248f5a8685a": {
          "model_module": "@jupyter-widgets/output",
          "model_name": "OutputModel",
          "model_module_version": "1.0.0",
          "state": {
            "_view_name": "OutputView",
            "msg_id": "",
            "_dom_classes": [],
            "_model_name": "OutputModel",
            "outputs": [
              {
                "output_type": "stream",
                "name": "stdout",
                "text": [
                  "Accuracy with LinearDiscriminantAnalysis() is 0.8493827160493828\n",
                  " \n",
                  "              precision    recall  f1-score   support\n",
                  "\n",
                  "           0       0.88      0.94      0.91     20602\n",
                  "           1       0.71      0.52      0.60      5723\n",
                  "\n",
                  "    accuracy                           0.85     26325\n",
                  "   macro avg       0.79      0.73      0.75     26325\n",
                  "weighted avg       0.84      0.85      0.84     26325\n",
                  "\n"
                ]
              },
              {
                "output_type": "display_data",
                "data": {
                  "image/png": "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\n",
                  "text/plain": "<Figure size 1080x360 with 2 Axes>"
                },
                "metadata": {
                  "needs_background": "light"
                }
              },
              {
                "output_type": "display_data",
                "data": {
                  "text/plain": "(None,\n None,\n None,\n <matplotlib.axes._subplots.AxesSubplot at 0x7feed61513d0>,\n <matplotlib.axes._subplots.AxesSubplot at 0x7feed61513d0>,\n Text(0.5, 1.0, 'Actual Data'),\n <matplotlib.axes._subplots.AxesSubplot at 0x7feed61c9490>,\n <matplotlib.axes._subplots.AxesSubplot at 0x7feed61c9490>,\n Text(0.5, 1.0, 'Predicted Data'),\n None)"
                },
                "metadata": {}
              }
            ],
            "_view_module": "@jupyter-widgets/output",
            "_model_module_version": "1.0.0",
            "_view_count": null,
            "_view_module_version": "1.0.0",
            "layout": "IPY_MODEL_5a446ffdad84453e9cf9827ace50b384",
            "_model_module": "@jupyter-widgets/output"
          }
        },
        "27a0fc2ff0d044b6bf70cb974db3c74c": {
          "model_module": "@jupyter-widgets/controls",
          "model_name": "DescriptionStyleModel",
          "model_module_version": "1.5.0",
          "state": {
            "_view_name": "StyleView",
            "_model_name": "DescriptionStyleModel",
            "description_width": "",
            "_view_module": "@jupyter-widgets/base",
            "_model_module_version": "1.5.0",
            "_view_count": null,
            "_view_module_version": "1.2.0",
            "_model_module": "@jupyter-widgets/controls"
          }
        },
        "54d8d88c5cbe471da50874aa5b0cd31e": {
          "model_module": "@jupyter-widgets/base",
          "model_name": "LayoutModel",
          "model_module_version": "1.2.0",
          "state": {
            "_view_name": "LayoutView",
            "grid_template_rows": null,
            "right": null,
            "justify_content": null,
            "_view_module": "@jupyter-widgets/base",
            "overflow": null,
            "_model_module_version": "1.2.0",
            "_view_count": null,
            "flex_flow": null,
            "width": null,
            "min_width": null,
            "border": null,
            "align_items": null,
            "bottom": null,
            "_model_module": "@jupyter-widgets/base",
            "top": null,
            "grid_column": null,
            "overflow_y": null,
            "overflow_x": null,
            "grid_auto_flow": null,
            "grid_area": null,
            "grid_template_columns": null,
            "flex": null,
            "_model_name": "LayoutModel",
            "justify_items": null,
            "grid_row": null,
            "max_height": null,
            "align_content": null,
            "visibility": null,
            "align_self": null,
            "height": null,
            "min_height": null,
            "padding": null,
            "grid_auto_rows": null,
            "grid_gap": null,
            "max_width": null,
            "order": null,
            "_view_module_version": "1.2.0",
            "grid_template_areas": null,
            "object_position": null,
            "object_fit": null,
            "grid_auto_columns": null,
            "margin": null,
            "display": null,
            "left": null
          }
        },
        "5366d9a874be4f748fe9e4440d1d13d6": {
          "model_module": "@jupyter-widgets/controls",
          "model_name": "ButtonStyleModel",
          "model_module_version": "1.5.0",
          "state": {
            "_view_name": "StyleView",
            "_model_name": "ButtonStyleModel",
            "_view_module": "@jupyter-widgets/base",
            "_model_module_version": "1.5.0",
            "_view_count": null,
            "button_color": null,
            "font_weight": "",
            "_view_module_version": "1.2.0",
            "_model_module": "@jupyter-widgets/controls"
          }
        },
        "b1879e22985c4ac29a3e62de829cfc37": {
          "model_module": "@jupyter-widgets/base",
          "model_name": "LayoutModel",
          "model_module_version": "1.2.0",
          "state": {
            "_view_name": "LayoutView",
            "grid_template_rows": null,
            "right": null,
            "justify_content": null,
            "_view_module": "@jupyter-widgets/base",
            "overflow": null,
            "_model_module_version": "1.2.0",
            "_view_count": null,
            "flex_flow": null,
            "width": null,
            "min_width": null,
            "border": null,
            "align_items": null,
            "bottom": null,
            "_model_module": "@jupyter-widgets/base",
            "top": null,
            "grid_column": null,
            "overflow_y": null,
            "overflow_x": null,
            "grid_auto_flow": null,
            "grid_area": null,
            "grid_template_columns": null,
            "flex": null,
            "_model_name": "LayoutModel",
            "justify_items": null,
            "grid_row": null,
            "max_height": null,
            "align_content": null,
            "visibility": null,
            "align_self": null,
            "height": null,
            "min_height": null,
            "padding": null,
            "grid_auto_rows": null,
            "grid_gap": null,
            "max_width": null,
            "order": null,
            "_view_module_version": "1.2.0",
            "grid_template_areas": null,
            "object_position": null,
            "object_fit": null,
            "grid_auto_columns": null,
            "margin": null,
            "display": null,
            "left": null
          }
        },
        "5a446ffdad84453e9cf9827ace50b384": {
          "model_module": "@jupyter-widgets/base",
          "model_name": "LayoutModel",
          "model_module_version": "1.2.0",
          "state": {
            "_view_name": "LayoutView",
            "grid_template_rows": null,
            "right": null,
            "justify_content": null,
            "_view_module": "@jupyter-widgets/base",
            "overflow": null,
            "_model_module_version": "1.2.0",
            "_view_count": null,
            "flex_flow": null,
            "width": null,
            "min_width": null,
            "border": null,
            "align_items": null,
            "bottom": null,
            "_model_module": "@jupyter-widgets/base",
            "top": null,
            "grid_column": null,
            "overflow_y": null,
            "overflow_x": null,
            "grid_auto_flow": null,
            "grid_area": null,
            "grid_template_columns": null,
            "flex": null,
            "_model_name": "LayoutModel",
            "justify_items": null,
            "grid_row": null,
            "max_height": null,
            "align_content": null,
            "visibility": null,
            "align_self": null,
            "height": null,
            "min_height": null,
            "padding": null,
            "grid_auto_rows": null,
            "grid_gap": null,
            "max_width": null,
            "order": null,
            "_view_module_version": "1.2.0",
            "grid_template_areas": null,
            "object_position": null,
            "object_fit": null,
            "grid_auto_columns": null,
            "margin": null,
            "display": null,
            "left": null
          }
        }
      }
    }
  },
  "cells": [
    {
      "cell_type": "code",
      "metadata": {
        "colab": {
          "base_uri": "https://localhost:8080/"
        },
        "id": "IqIUvQPe2pUe",
        "outputId": "46c6574c-ddf9-41d1-a1ca-1ffcb002a4d2"
      },
      "source": [
        "from google.colab import drive\n",
        "drive.mount(\"/content/drive\")"
      ],
      "execution_count": 1,
      "outputs": [
        {
          "output_type": "stream",
          "name": "stdout",
          "text": [
            "Mounted at /content/drive\n"
          ]
        }
      ]
    },
    {
      "cell_type": "code",
      "metadata": {
        "id": "s2XaijAG24t3"
      },
      "source": [
        "import pandas as pd\n",
        "import numpy as np\n",
        "from sklearn.metrics import classification_report\n",
        "from ipywidgets import interact,interact_manual\n",
        "import seaborn as sns\n",
        "import matplotlib.pyplot as plt\n",
        "import tensorflow as tf\n",
        "from sklearn.model_selection import train_test_split\n",
        "from sklearn.preprocessing import LabelEncoder\n",
        "from sklearn.linear_model import LogisticRegression\n",
        "from sklearn.neighbors import KNeighborsClassifier\n",
        "from sklearn.ensemble import RandomForestClassifier\n",
        "import warnings\n",
        "warnings.filterwarnings(\"ignore\")"
      ],
      "execution_count": 61,
      "outputs": []
    },
    {
      "cell_type": "code",
      "metadata": {
        "colab": {
          "base_uri": "https://localhost:8080/",
          "height": 330
        },
        "id": "KzlHP7Fl3Qgt",
        "outputId": "1af758fc-ffcf-48d4-f822-42d6ffc5545e"
      },
      "source": [
        "data=pd.read_csv(\"/content/drive/MyDrive/datasets/newdata1/Cleaned_WeatherAUS.csv\",parse_dates=[1])\n",
        "data.head()"
      ],
      "execution_count": 10,
      "outputs": [
        {
          "output_type": "execute_result",
          "data": {
            "text/html": [
              "<div>\n",
              "<style scoped>\n",
              "    .dataframe tbody tr th:only-of-type {\n",
              "        vertical-align: middle;\n",
              "    }\n",
              "\n",
              "    .dataframe tbody tr th {\n",
              "        vertical-align: top;\n",
              "    }\n",
              "\n",
              "    .dataframe thead th {\n",
              "        text-align: right;\n",
              "    }\n",
              "</style>\n",
              "<table border=\"1\" class=\"dataframe\">\n",
              "  <thead>\n",
              "    <tr style=\"text-align: right;\">\n",
              "      <th></th>\n",
              "      <th>Unnamed: 0</th>\n",
              "      <th>Date</th>\n",
              "      <th>Location</th>\n",
              "      <th>MinTemp</th>\n",
              "      <th>MaxTemp</th>\n",
              "      <th>Rainfall</th>\n",
              "      <th>Sunshine</th>\n",
              "      <th>WindGustDir</th>\n",
              "      <th>WindGustSpeed</th>\n",
              "      <th>WindDir9am</th>\n",
              "      <th>WindDir3pm</th>\n",
              "      <th>WindSpeed9am</th>\n",
              "      <th>WindSpeed3pm</th>\n",
              "      <th>Humidity9am</th>\n",
              "      <th>Humidity3pm</th>\n",
              "      <th>Pressure9am</th>\n",
              "      <th>Pressure3pm</th>\n",
              "      <th>Cloud9am</th>\n",
              "      <th>Cloud3pm</th>\n",
              "      <th>Temp9am</th>\n",
              "      <th>Temp3pm</th>\n",
              "      <th>RainToday</th>\n",
              "      <th>RainTomorrow</th>\n",
              "    </tr>\n",
              "  </thead>\n",
              "  <tbody>\n",
              "    <tr>\n",
              "      <th>0</th>\n",
              "      <td>0</td>\n",
              "      <td>2008-12-01</td>\n",
              "      <td>Albury</td>\n",
              "      <td>13.4</td>\n",
              "      <td>22.9</td>\n",
              "      <td>0.6</td>\n",
              "      <td>8.4</td>\n",
              "      <td>W</td>\n",
              "      <td>44.0</td>\n",
              "      <td>W</td>\n",
              "      <td>WNW</td>\n",
              "      <td>20.0</td>\n",
              "      <td>24.0</td>\n",
              "      <td>71.0</td>\n",
              "      <td>22.0</td>\n",
              "      <td>1007.7</td>\n",
              "      <td>1007.1</td>\n",
              "      <td>8.0</td>\n",
              "      <td>4.0</td>\n",
              "      <td>16.9</td>\n",
              "      <td>21.8</td>\n",
              "      <td>No</td>\n",
              "      <td>No</td>\n",
              "    </tr>\n",
              "    <tr>\n",
              "      <th>1</th>\n",
              "      <td>1</td>\n",
              "      <td>2008-12-02</td>\n",
              "      <td>Albury</td>\n",
              "      <td>7.4</td>\n",
              "      <td>25.1</td>\n",
              "      <td>0.0</td>\n",
              "      <td>8.4</td>\n",
              "      <td>WNW</td>\n",
              "      <td>44.0</td>\n",
              "      <td>NNW</td>\n",
              "      <td>WSW</td>\n",
              "      <td>4.0</td>\n",
              "      <td>22.0</td>\n",
              "      <td>44.0</td>\n",
              "      <td>25.0</td>\n",
              "      <td>1010.6</td>\n",
              "      <td>1007.8</td>\n",
              "      <td>5.0</td>\n",
              "      <td>4.0</td>\n",
              "      <td>17.2</td>\n",
              "      <td>24.3</td>\n",
              "      <td>No</td>\n",
              "      <td>No</td>\n",
              "    </tr>\n",
              "    <tr>\n",
              "      <th>2</th>\n",
              "      <td>2</td>\n",
              "      <td>2008-12-03</td>\n",
              "      <td>Albury</td>\n",
              "      <td>12.9</td>\n",
              "      <td>25.7</td>\n",
              "      <td>0.0</td>\n",
              "      <td>8.4</td>\n",
              "      <td>WSW</td>\n",
              "      <td>46.0</td>\n",
              "      <td>W</td>\n",
              "      <td>WSW</td>\n",
              "      <td>19.0</td>\n",
              "      <td>26.0</td>\n",
              "      <td>38.0</td>\n",
              "      <td>30.0</td>\n",
              "      <td>1007.6</td>\n",
              "      <td>1008.7</td>\n",
              "      <td>5.0</td>\n",
              "      <td>2.0</td>\n",
              "      <td>21.0</td>\n",
              "      <td>23.2</td>\n",
              "      <td>No</td>\n",
              "      <td>No</td>\n",
              "    </tr>\n",
              "    <tr>\n",
              "      <th>3</th>\n",
              "      <td>3</td>\n",
              "      <td>2008-12-04</td>\n",
              "      <td>Albury</td>\n",
              "      <td>9.2</td>\n",
              "      <td>28.0</td>\n",
              "      <td>0.0</td>\n",
              "      <td>8.4</td>\n",
              "      <td>NE</td>\n",
              "      <td>24.0</td>\n",
              "      <td>SE</td>\n",
              "      <td>E</td>\n",
              "      <td>11.0</td>\n",
              "      <td>9.0</td>\n",
              "      <td>45.0</td>\n",
              "      <td>16.0</td>\n",
              "      <td>1017.6</td>\n",
              "      <td>1012.8</td>\n",
              "      <td>5.0</td>\n",
              "      <td>4.0</td>\n",
              "      <td>18.1</td>\n",
              "      <td>26.5</td>\n",
              "      <td>No</td>\n",
              "      <td>No</td>\n",
              "    </tr>\n",
              "    <tr>\n",
              "      <th>4</th>\n",
              "      <td>4</td>\n",
              "      <td>2008-12-05</td>\n",
              "      <td>Albury</td>\n",
              "      <td>17.5</td>\n",
              "      <td>32.3</td>\n",
              "      <td>1.0</td>\n",
              "      <td>8.4</td>\n",
              "      <td>W</td>\n",
              "      <td>41.0</td>\n",
              "      <td>ENE</td>\n",
              "      <td>NW</td>\n",
              "      <td>7.0</td>\n",
              "      <td>20.0</td>\n",
              "      <td>82.0</td>\n",
              "      <td>33.0</td>\n",
              "      <td>1010.8</td>\n",
              "      <td>1006.0</td>\n",
              "      <td>7.0</td>\n",
              "      <td>8.0</td>\n",
              "      <td>17.8</td>\n",
              "      <td>29.7</td>\n",
              "      <td>No</td>\n",
              "      <td>No</td>\n",
              "    </tr>\n",
              "  </tbody>\n",
              "</table>\n",
              "</div>"
            ],
            "text/plain": [
              "   Unnamed: 0       Date Location  ...  Temp3pm  RainToday  RainTomorrow\n",
              "0           0 2008-12-01   Albury  ...     21.8         No            No\n",
              "1           1 2008-12-02   Albury  ...     24.3         No            No\n",
              "2           2 2008-12-03   Albury  ...     23.2         No            No\n",
              "3           3 2008-12-04   Albury  ...     26.5         No            No\n",
              "4           4 2008-12-05   Albury  ...     29.7         No            No\n",
              "\n",
              "[5 rows x 23 columns]"
            ]
          },
          "metadata": {},
          "execution_count": 10
        }
      ]
    },
    {
      "cell_type": "code",
      "metadata": {
        "id": "P1gh47Ve3a4B"
      },
      "source": [
        "data.drop(columns=[\"Unnamed: 0\"],inplace=True)"
      ],
      "execution_count": 11,
      "outputs": []
    },
    {
      "cell_type": "code",
      "metadata": {
        "colab": {
          "base_uri": "https://localhost:8080/",
          "height": 313
        },
        "id": "60SxNkCs4Wok",
        "outputId": "580b5c91-4249-4ed2-d4b6-0e65a4d1bdbe"
      },
      "source": [
        "data.head()"
      ],
      "execution_count": 12,
      "outputs": [
        {
          "output_type": "execute_result",
          "data": {
            "text/html": [
              "<div>\n",
              "<style scoped>\n",
              "    .dataframe tbody tr th:only-of-type {\n",
              "        vertical-align: middle;\n",
              "    }\n",
              "\n",
              "    .dataframe tbody tr th {\n",
              "        vertical-align: top;\n",
              "    }\n",
              "\n",
              "    .dataframe thead th {\n",
              "        text-align: right;\n",
              "    }\n",
              "</style>\n",
              "<table border=\"1\" class=\"dataframe\">\n",
              "  <thead>\n",
              "    <tr style=\"text-align: right;\">\n",
              "      <th></th>\n",
              "      <th>Date</th>\n",
              "      <th>Location</th>\n",
              "      <th>MinTemp</th>\n",
              "      <th>MaxTemp</th>\n",
              "      <th>Rainfall</th>\n",
              "      <th>Sunshine</th>\n",
              "      <th>WindGustDir</th>\n",
              "      <th>WindGustSpeed</th>\n",
              "      <th>WindDir9am</th>\n",
              "      <th>WindDir3pm</th>\n",
              "      <th>WindSpeed9am</th>\n",
              "      <th>WindSpeed3pm</th>\n",
              "      <th>Humidity9am</th>\n",
              "      <th>Humidity3pm</th>\n",
              "      <th>Pressure9am</th>\n",
              "      <th>Pressure3pm</th>\n",
              "      <th>Cloud9am</th>\n",
              "      <th>Cloud3pm</th>\n",
              "      <th>Temp9am</th>\n",
              "      <th>Temp3pm</th>\n",
              "      <th>RainToday</th>\n",
              "      <th>RainTomorrow</th>\n",
              "    </tr>\n",
              "  </thead>\n",
              "  <tbody>\n",
              "    <tr>\n",
              "      <th>0</th>\n",
              "      <td>2008-12-01</td>\n",
              "      <td>Albury</td>\n",
              "      <td>13.4</td>\n",
              "      <td>22.9</td>\n",
              "      <td>0.6</td>\n",
              "      <td>8.4</td>\n",
              "      <td>W</td>\n",
              "      <td>44.0</td>\n",
              "      <td>W</td>\n",
              "      <td>WNW</td>\n",
              "      <td>20.0</td>\n",
              "      <td>24.0</td>\n",
              "      <td>71.0</td>\n",
              "      <td>22.0</td>\n",
              "      <td>1007.7</td>\n",
              "      <td>1007.1</td>\n",
              "      <td>8.0</td>\n",
              "      <td>4.0</td>\n",
              "      <td>16.9</td>\n",
              "      <td>21.8</td>\n",
              "      <td>No</td>\n",
              "      <td>No</td>\n",
              "    </tr>\n",
              "    <tr>\n",
              "      <th>1</th>\n",
              "      <td>2008-12-02</td>\n",
              "      <td>Albury</td>\n",
              "      <td>7.4</td>\n",
              "      <td>25.1</td>\n",
              "      <td>0.0</td>\n",
              "      <td>8.4</td>\n",
              "      <td>WNW</td>\n",
              "      <td>44.0</td>\n",
              "      <td>NNW</td>\n",
              "      <td>WSW</td>\n",
              "      <td>4.0</td>\n",
              "      <td>22.0</td>\n",
              "      <td>44.0</td>\n",
              "      <td>25.0</td>\n",
              "      <td>1010.6</td>\n",
              "      <td>1007.8</td>\n",
              "      <td>5.0</td>\n",
              "      <td>4.0</td>\n",
              "      <td>17.2</td>\n",
              "      <td>24.3</td>\n",
              "      <td>No</td>\n",
              "      <td>No</td>\n",
              "    </tr>\n",
              "    <tr>\n",
              "      <th>2</th>\n",
              "      <td>2008-12-03</td>\n",
              "      <td>Albury</td>\n",
              "      <td>12.9</td>\n",
              "      <td>25.7</td>\n",
              "      <td>0.0</td>\n",
              "      <td>8.4</td>\n",
              "      <td>WSW</td>\n",
              "      <td>46.0</td>\n",
              "      <td>W</td>\n",
              "      <td>WSW</td>\n",
              "      <td>19.0</td>\n",
              "      <td>26.0</td>\n",
              "      <td>38.0</td>\n",
              "      <td>30.0</td>\n",
              "      <td>1007.6</td>\n",
              "      <td>1008.7</td>\n",
              "      <td>5.0</td>\n",
              "      <td>2.0</td>\n",
              "      <td>21.0</td>\n",
              "      <td>23.2</td>\n",
              "      <td>No</td>\n",
              "      <td>No</td>\n",
              "    </tr>\n",
              "    <tr>\n",
              "      <th>3</th>\n",
              "      <td>2008-12-04</td>\n",
              "      <td>Albury</td>\n",
              "      <td>9.2</td>\n",
              "      <td>28.0</td>\n",
              "      <td>0.0</td>\n",
              "      <td>8.4</td>\n",
              "      <td>NE</td>\n",
              "      <td>24.0</td>\n",
              "      <td>SE</td>\n",
              "      <td>E</td>\n",
              "      <td>11.0</td>\n",
              "      <td>9.0</td>\n",
              "      <td>45.0</td>\n",
              "      <td>16.0</td>\n",
              "      <td>1017.6</td>\n",
              "      <td>1012.8</td>\n",
              "      <td>5.0</td>\n",
              "      <td>4.0</td>\n",
              "      <td>18.1</td>\n",
              "      <td>26.5</td>\n",
              "      <td>No</td>\n",
              "      <td>No</td>\n",
              "    </tr>\n",
              "    <tr>\n",
              "      <th>4</th>\n",
              "      <td>2008-12-05</td>\n",
              "      <td>Albury</td>\n",
              "      <td>17.5</td>\n",
              "      <td>32.3</td>\n",
              "      <td>1.0</td>\n",
              "      <td>8.4</td>\n",
              "      <td>W</td>\n",
              "      <td>41.0</td>\n",
              "      <td>ENE</td>\n",
              "      <td>NW</td>\n",
              "      <td>7.0</td>\n",
              "      <td>20.0</td>\n",
              "      <td>82.0</td>\n",
              "      <td>33.0</td>\n",
              "      <td>1010.8</td>\n",
              "      <td>1006.0</td>\n",
              "      <td>7.0</td>\n",
              "      <td>8.0</td>\n",
              "      <td>17.8</td>\n",
              "      <td>29.7</td>\n",
              "      <td>No</td>\n",
              "      <td>No</td>\n",
              "    </tr>\n",
              "  </tbody>\n",
              "</table>\n",
              "</div>"
            ],
            "text/plain": [
              "        Date Location  MinTemp  ...  Temp3pm  RainToday  RainTomorrow\n",
              "0 2008-12-01   Albury     13.4  ...     21.8         No            No\n",
              "1 2008-12-02   Albury      7.4  ...     24.3         No            No\n",
              "2 2008-12-03   Albury     12.9  ...     23.2         No            No\n",
              "3 2008-12-04   Albury      9.2  ...     26.5         No            No\n",
              "4 2008-12-05   Albury     17.5  ...     29.7         No            No\n",
              "\n",
              "[5 rows x 22 columns]"
            ]
          },
          "metadata": {},
          "execution_count": 12
        }
      ]
    },
    {
      "cell_type": "code",
      "metadata": {
        "id": "XVGjSQMX4jUz"
      },
      "source": [
        "data[\"year\"]=data[\"Date\"].dt.year"
      ],
      "execution_count": 14,
      "outputs": []
    },
    {
      "cell_type": "code",
      "metadata": {
        "id": "KfK0skZb4kaR"
      },
      "source": [
        "data=data.drop(columns=[\"Date\"])"
      ],
      "execution_count": 15,
      "outputs": []
    },
    {
      "cell_type": "code",
      "metadata": {
        "colab": {
          "base_uri": "https://localhost:8080/",
          "height": 226
        },
        "id": "-7UheLmY4_to",
        "outputId": "2ff34b2c-c214-42b3-8c5c-fa778c320177"
      },
      "source": [
        "data.head()"
      ],
      "execution_count": 16,
      "outputs": [
        {
          "output_type": "execute_result",
          "data": {
            "text/html": [
              "<div>\n",
              "<style scoped>\n",
              "    .dataframe tbody tr th:only-of-type {\n",
              "        vertical-align: middle;\n",
              "    }\n",
              "\n",
              "    .dataframe tbody tr th {\n",
              "        vertical-align: top;\n",
              "    }\n",
              "\n",
              "    .dataframe thead th {\n",
              "        text-align: right;\n",
              "    }\n",
              "</style>\n",
              "<table border=\"1\" class=\"dataframe\">\n",
              "  <thead>\n",
              "    <tr style=\"text-align: right;\">\n",
              "      <th></th>\n",
              "      <th>Location</th>\n",
              "      <th>MinTemp</th>\n",
              "      <th>MaxTemp</th>\n",
              "      <th>Rainfall</th>\n",
              "      <th>Sunshine</th>\n",
              "      <th>WindGustDir</th>\n",
              "      <th>WindGustSpeed</th>\n",
              "      <th>WindDir9am</th>\n",
              "      <th>WindDir3pm</th>\n",
              "      <th>WindSpeed9am</th>\n",
              "      <th>WindSpeed3pm</th>\n",
              "      <th>Humidity9am</th>\n",
              "      <th>Humidity3pm</th>\n",
              "      <th>Pressure9am</th>\n",
              "      <th>Pressure3pm</th>\n",
              "      <th>Cloud9am</th>\n",
              "      <th>Cloud3pm</th>\n",
              "      <th>Temp9am</th>\n",
              "      <th>Temp3pm</th>\n",
              "      <th>RainToday</th>\n",
              "      <th>RainTomorrow</th>\n",
              "      <th>year</th>\n",
              "    </tr>\n",
              "  </thead>\n",
              "  <tbody>\n",
              "    <tr>\n",
              "      <th>0</th>\n",
              "      <td>Albury</td>\n",
              "      <td>13.4</td>\n",
              "      <td>22.9</td>\n",
              "      <td>0.6</td>\n",
              "      <td>8.4</td>\n",
              "      <td>W</td>\n",
              "      <td>44.0</td>\n",
              "      <td>W</td>\n",
              "      <td>WNW</td>\n",
              "      <td>20.0</td>\n",
              "      <td>24.0</td>\n",
              "      <td>71.0</td>\n",
              "      <td>22.0</td>\n",
              "      <td>1007.7</td>\n",
              "      <td>1007.1</td>\n",
              "      <td>8.0</td>\n",
              "      <td>4.0</td>\n",
              "      <td>16.9</td>\n",
              "      <td>21.8</td>\n",
              "      <td>No</td>\n",
              "      <td>No</td>\n",
              "      <td>2008</td>\n",
              "    </tr>\n",
              "    <tr>\n",
              "      <th>1</th>\n",
              "      <td>Albury</td>\n",
              "      <td>7.4</td>\n",
              "      <td>25.1</td>\n",
              "      <td>0.0</td>\n",
              "      <td>8.4</td>\n",
              "      <td>WNW</td>\n",
              "      <td>44.0</td>\n",
              "      <td>NNW</td>\n",
              "      <td>WSW</td>\n",
              "      <td>4.0</td>\n",
              "      <td>22.0</td>\n",
              "      <td>44.0</td>\n",
              "      <td>25.0</td>\n",
              "      <td>1010.6</td>\n",
              "      <td>1007.8</td>\n",
              "      <td>5.0</td>\n",
              "      <td>4.0</td>\n",
              "      <td>17.2</td>\n",
              "      <td>24.3</td>\n",
              "      <td>No</td>\n",
              "      <td>No</td>\n",
              "      <td>2008</td>\n",
              "    </tr>\n",
              "    <tr>\n",
              "      <th>2</th>\n",
              "      <td>Albury</td>\n",
              "      <td>12.9</td>\n",
              "      <td>25.7</td>\n",
              "      <td>0.0</td>\n",
              "      <td>8.4</td>\n",
              "      <td>WSW</td>\n",
              "      <td>46.0</td>\n",
              "      <td>W</td>\n",
              "      <td>WSW</td>\n",
              "      <td>19.0</td>\n",
              "      <td>26.0</td>\n",
              "      <td>38.0</td>\n",
              "      <td>30.0</td>\n",
              "      <td>1007.6</td>\n",
              "      <td>1008.7</td>\n",
              "      <td>5.0</td>\n",
              "      <td>2.0</td>\n",
              "      <td>21.0</td>\n",
              "      <td>23.2</td>\n",
              "      <td>No</td>\n",
              "      <td>No</td>\n",
              "      <td>2008</td>\n",
              "    </tr>\n",
              "    <tr>\n",
              "      <th>3</th>\n",
              "      <td>Albury</td>\n",
              "      <td>9.2</td>\n",
              "      <td>28.0</td>\n",
              "      <td>0.0</td>\n",
              "      <td>8.4</td>\n",
              "      <td>NE</td>\n",
              "      <td>24.0</td>\n",
              "      <td>SE</td>\n",
              "      <td>E</td>\n",
              "      <td>11.0</td>\n",
              "      <td>9.0</td>\n",
              "      <td>45.0</td>\n",
              "      <td>16.0</td>\n",
              "      <td>1017.6</td>\n",
              "      <td>1012.8</td>\n",
              "      <td>5.0</td>\n",
              "      <td>4.0</td>\n",
              "      <td>18.1</td>\n",
              "      <td>26.5</td>\n",
              "      <td>No</td>\n",
              "      <td>No</td>\n",
              "      <td>2008</td>\n",
              "    </tr>\n",
              "    <tr>\n",
              "      <th>4</th>\n",
              "      <td>Albury</td>\n",
              "      <td>17.5</td>\n",
              "      <td>32.3</td>\n",
              "      <td>1.0</td>\n",
              "      <td>8.4</td>\n",
              "      <td>W</td>\n",
              "      <td>41.0</td>\n",
              "      <td>ENE</td>\n",
              "      <td>NW</td>\n",
              "      <td>7.0</td>\n",
              "      <td>20.0</td>\n",
              "      <td>82.0</td>\n",
              "      <td>33.0</td>\n",
              "      <td>1010.8</td>\n",
              "      <td>1006.0</td>\n",
              "      <td>7.0</td>\n",
              "      <td>8.0</td>\n",
              "      <td>17.8</td>\n",
              "      <td>29.7</td>\n",
              "      <td>No</td>\n",
              "      <td>No</td>\n",
              "      <td>2008</td>\n",
              "    </tr>\n",
              "  </tbody>\n",
              "</table>\n",
              "</div>"
            ],
            "text/plain": [
              "  Location  MinTemp  MaxTemp  Rainfall  ...  Temp3pm RainToday  RainTomorrow  year\n",
              "0   Albury     13.4     22.9       0.6  ...     21.8        No            No  2008\n",
              "1   Albury      7.4     25.1       0.0  ...     24.3        No            No  2008\n",
              "2   Albury     12.9     25.7       0.0  ...     23.2        No            No  2008\n",
              "3   Albury      9.2     28.0       0.0  ...     26.5        No            No  2008\n",
              "4   Albury     17.5     32.3       1.0  ...     29.7        No            No  2008\n",
              "\n",
              "[5 rows x 22 columns]"
            ]
          },
          "metadata": {},
          "execution_count": 16
        }
      ]
    },
    {
      "cell_type": "code",
      "metadata": {
        "id": "-4pMaEKS5CcH"
      },
      "source": [
        "data[data.select_dtypes(\"object\").columns]=data[data.select_dtypes(\"object\").columns].apply(LabelEncoder().fit_transform)"
      ],
      "execution_count": 28,
      "outputs": []
    },
    {
      "cell_type": "code",
      "metadata": {
        "colab": {
          "base_uri": "https://localhost:8080/",
          "height": 226
        },
        "id": "XugAURpf5Gwo",
        "outputId": "97a3929f-a55a-4f1c-e8d4-bc4647fa777a"
      },
      "source": [
        "data.head()"
      ],
      "execution_count": 29,
      "outputs": [
        {
          "output_type": "execute_result",
          "data": {
            "text/html": [
              "<div>\n",
              "<style scoped>\n",
              "    .dataframe tbody tr th:only-of-type {\n",
              "        vertical-align: middle;\n",
              "    }\n",
              "\n",
              "    .dataframe tbody tr th {\n",
              "        vertical-align: top;\n",
              "    }\n",
              "\n",
              "    .dataframe thead th {\n",
              "        text-align: right;\n",
              "    }\n",
              "</style>\n",
              "<table border=\"1\" class=\"dataframe\">\n",
              "  <thead>\n",
              "    <tr style=\"text-align: right;\">\n",
              "      <th></th>\n",
              "      <th>Location</th>\n",
              "      <th>MinTemp</th>\n",
              "      <th>MaxTemp</th>\n",
              "      <th>Rainfall</th>\n",
              "      <th>Sunshine</th>\n",
              "      <th>WindGustDir</th>\n",
              "      <th>WindGustSpeed</th>\n",
              "      <th>WindDir9am</th>\n",
              "      <th>WindDir3pm</th>\n",
              "      <th>WindSpeed9am</th>\n",
              "      <th>WindSpeed3pm</th>\n",
              "      <th>Humidity9am</th>\n",
              "      <th>Humidity3pm</th>\n",
              "      <th>Pressure9am</th>\n",
              "      <th>Pressure3pm</th>\n",
              "      <th>Cloud9am</th>\n",
              "      <th>Cloud3pm</th>\n",
              "      <th>Temp9am</th>\n",
              "      <th>Temp3pm</th>\n",
              "      <th>RainToday</th>\n",
              "      <th>RainTomorrow</th>\n",
              "      <th>year</th>\n",
              "    </tr>\n",
              "  </thead>\n",
              "  <tbody>\n",
              "    <tr>\n",
              "      <th>0</th>\n",
              "      <td>1</td>\n",
              "      <td>13.4</td>\n",
              "      <td>22.9</td>\n",
              "      <td>0.6</td>\n",
              "      <td>8.4</td>\n",
              "      <td>13</td>\n",
              "      <td>44.0</td>\n",
              "      <td>13</td>\n",
              "      <td>14</td>\n",
              "      <td>20.0</td>\n",
              "      <td>24.0</td>\n",
              "      <td>71.0</td>\n",
              "      <td>22.0</td>\n",
              "      <td>1007.7</td>\n",
              "      <td>1007.1</td>\n",
              "      <td>8.0</td>\n",
              "      <td>4.0</td>\n",
              "      <td>16.9</td>\n",
              "      <td>21.8</td>\n",
              "      <td>0</td>\n",
              "      <td>0</td>\n",
              "      <td>2008</td>\n",
              "    </tr>\n",
              "    <tr>\n",
              "      <th>1</th>\n",
              "      <td>1</td>\n",
              "      <td>7.4</td>\n",
              "      <td>25.1</td>\n",
              "      <td>0.0</td>\n",
              "      <td>8.4</td>\n",
              "      <td>14</td>\n",
              "      <td>44.0</td>\n",
              "      <td>6</td>\n",
              "      <td>15</td>\n",
              "      <td>4.0</td>\n",
              "      <td>22.0</td>\n",
              "      <td>44.0</td>\n",
              "      <td>25.0</td>\n",
              "      <td>1010.6</td>\n",
              "      <td>1007.8</td>\n",
              "      <td>5.0</td>\n",
              "      <td>4.0</td>\n",
              "      <td>17.2</td>\n",
              "      <td>24.3</td>\n",
              "      <td>0</td>\n",
              "      <td>0</td>\n",
              "      <td>2008</td>\n",
              "    </tr>\n",
              "    <tr>\n",
              "      <th>2</th>\n",
              "      <td>1</td>\n",
              "      <td>12.9</td>\n",
              "      <td>25.7</td>\n",
              "      <td>0.0</td>\n",
              "      <td>8.4</td>\n",
              "      <td>15</td>\n",
              "      <td>46.0</td>\n",
              "      <td>13</td>\n",
              "      <td>15</td>\n",
              "      <td>19.0</td>\n",
              "      <td>26.0</td>\n",
              "      <td>38.0</td>\n",
              "      <td>30.0</td>\n",
              "      <td>1007.6</td>\n",
              "      <td>1008.7</td>\n",
              "      <td>5.0</td>\n",
              "      <td>2.0</td>\n",
              "      <td>21.0</td>\n",
              "      <td>23.2</td>\n",
              "      <td>0</td>\n",
              "      <td>0</td>\n",
              "      <td>2008</td>\n",
              "    </tr>\n",
              "    <tr>\n",
              "      <th>3</th>\n",
              "      <td>1</td>\n",
              "      <td>9.2</td>\n",
              "      <td>28.0</td>\n",
              "      <td>0.0</td>\n",
              "      <td>8.4</td>\n",
              "      <td>4</td>\n",
              "      <td>24.0</td>\n",
              "      <td>9</td>\n",
              "      <td>0</td>\n",
              "      <td>11.0</td>\n",
              "      <td>9.0</td>\n",
              "      <td>45.0</td>\n",
              "      <td>16.0</td>\n",
              "      <td>1017.6</td>\n",
              "      <td>1012.8</td>\n",
              "      <td>5.0</td>\n",
              "      <td>4.0</td>\n",
              "      <td>18.1</td>\n",
              "      <td>26.5</td>\n",
              "      <td>0</td>\n",
              "      <td>0</td>\n",
              "      <td>2008</td>\n",
              "    </tr>\n",
              "    <tr>\n",
              "      <th>4</th>\n",
              "      <td>1</td>\n",
              "      <td>17.5</td>\n",
              "      <td>32.3</td>\n",
              "      <td>1.0</td>\n",
              "      <td>8.4</td>\n",
              "      <td>13</td>\n",
              "      <td>41.0</td>\n",
              "      <td>1</td>\n",
              "      <td>7</td>\n",
              "      <td>7.0</td>\n",
              "      <td>20.0</td>\n",
              "      <td>82.0</td>\n",
              "      <td>33.0</td>\n",
              "      <td>1010.8</td>\n",
              "      <td>1006.0</td>\n",
              "      <td>7.0</td>\n",
              "      <td>8.0</td>\n",
              "      <td>17.8</td>\n",
              "      <td>29.7</td>\n",
              "      <td>0</td>\n",
              "      <td>0</td>\n",
              "      <td>2008</td>\n",
              "    </tr>\n",
              "  </tbody>\n",
              "</table>\n",
              "</div>"
            ],
            "text/plain": [
              "   Location  MinTemp  MaxTemp  Rainfall  ...  Temp3pm  RainToday  RainTomorrow  year\n",
              "0         1     13.4     22.9       0.6  ...     21.8          0             0  2008\n",
              "1         1      7.4     25.1       0.0  ...     24.3          0             0  2008\n",
              "2         1     12.9     25.7       0.0  ...     23.2          0             0  2008\n",
              "3         1      9.2     28.0       0.0  ...     26.5          0             0  2008\n",
              "4         1     17.5     32.3       1.0  ...     29.7          0             0  2008\n",
              "\n",
              "[5 rows x 22 columns]"
            ]
          },
          "metadata": {},
          "execution_count": 29
        }
      ]
    },
    {
      "cell_type": "code",
      "metadata": {
        "id": "wLWAYly86x_n"
      },
      "source": [
        "data[[\"Pressure9am\",\"Pressure3pm\"]]=data[[\"Pressure9am\",\"Pressure3pm\"]].apply(lambda f: f.apply(lambda x: np.sqrt(abs(x))))"
      ],
      "execution_count": 33,
      "outputs": []
    },
    {
      "cell_type": "code",
      "metadata": {
        "colab": {
          "base_uri": "https://localhost:8080/",
          "height": 226
        },
        "id": "ZTBucagX7RgU",
        "outputId": "03ee8cf1-7910-4037-a064-ba559dc8878b"
      },
      "source": [
        "data.head()"
      ],
      "execution_count": 34,
      "outputs": [
        {
          "output_type": "execute_result",
          "data": {
            "text/html": [
              "<div>\n",
              "<style scoped>\n",
              "    .dataframe tbody tr th:only-of-type {\n",
              "        vertical-align: middle;\n",
              "    }\n",
              "\n",
              "    .dataframe tbody tr th {\n",
              "        vertical-align: top;\n",
              "    }\n",
              "\n",
              "    .dataframe thead th {\n",
              "        text-align: right;\n",
              "    }\n",
              "</style>\n",
              "<table border=\"1\" class=\"dataframe\">\n",
              "  <thead>\n",
              "    <tr style=\"text-align: right;\">\n",
              "      <th></th>\n",
              "      <th>Location</th>\n",
              "      <th>MinTemp</th>\n",
              "      <th>MaxTemp</th>\n",
              "      <th>Rainfall</th>\n",
              "      <th>Sunshine</th>\n",
              "      <th>WindGustDir</th>\n",
              "      <th>WindGustSpeed</th>\n",
              "      <th>WindDir9am</th>\n",
              "      <th>WindDir3pm</th>\n",
              "      <th>WindSpeed9am</th>\n",
              "      <th>WindSpeed3pm</th>\n",
              "      <th>Humidity9am</th>\n",
              "      <th>Humidity3pm</th>\n",
              "      <th>Pressure9am</th>\n",
              "      <th>Pressure3pm</th>\n",
              "      <th>Cloud9am</th>\n",
              "      <th>Cloud3pm</th>\n",
              "      <th>Temp9am</th>\n",
              "      <th>Temp3pm</th>\n",
              "      <th>RainToday</th>\n",
              "      <th>RainTomorrow</th>\n",
              "      <th>year</th>\n",
              "    </tr>\n",
              "  </thead>\n",
              "  <tbody>\n",
              "    <tr>\n",
              "      <th>0</th>\n",
              "      <td>1</td>\n",
              "      <td>13.4</td>\n",
              "      <td>22.9</td>\n",
              "      <td>0.6</td>\n",
              "      <td>8.4</td>\n",
              "      <td>13</td>\n",
              "      <td>44.0</td>\n",
              "      <td>13</td>\n",
              "      <td>14</td>\n",
              "      <td>20.0</td>\n",
              "      <td>24.0</td>\n",
              "      <td>71.0</td>\n",
              "      <td>22.0</td>\n",
              "      <td>31.744291</td>\n",
              "      <td>31.734839</td>\n",
              "      <td>8.0</td>\n",
              "      <td>4.0</td>\n",
              "      <td>16.9</td>\n",
              "      <td>21.8</td>\n",
              "      <td>0</td>\n",
              "      <td>0</td>\n",
              "      <td>2008</td>\n",
              "    </tr>\n",
              "    <tr>\n",
              "      <th>1</th>\n",
              "      <td>1</td>\n",
              "      <td>7.4</td>\n",
              "      <td>25.1</td>\n",
              "      <td>0.0</td>\n",
              "      <td>8.4</td>\n",
              "      <td>14</td>\n",
              "      <td>44.0</td>\n",
              "      <td>6</td>\n",
              "      <td>15</td>\n",
              "      <td>4.0</td>\n",
              "      <td>22.0</td>\n",
              "      <td>44.0</td>\n",
              "      <td>25.0</td>\n",
              "      <td>31.789936</td>\n",
              "      <td>31.745866</td>\n",
              "      <td>5.0</td>\n",
              "      <td>4.0</td>\n",
              "      <td>17.2</td>\n",
              "      <td>24.3</td>\n",
              "      <td>0</td>\n",
              "      <td>0</td>\n",
              "      <td>2008</td>\n",
              "    </tr>\n",
              "    <tr>\n",
              "      <th>2</th>\n",
              "      <td>1</td>\n",
              "      <td>12.9</td>\n",
              "      <td>25.7</td>\n",
              "      <td>0.0</td>\n",
              "      <td>8.4</td>\n",
              "      <td>15</td>\n",
              "      <td>46.0</td>\n",
              "      <td>13</td>\n",
              "      <td>15</td>\n",
              "      <td>19.0</td>\n",
              "      <td>26.0</td>\n",
              "      <td>38.0</td>\n",
              "      <td>30.0</td>\n",
              "      <td>31.742716</td>\n",
              "      <td>31.760038</td>\n",
              "      <td>5.0</td>\n",
              "      <td>2.0</td>\n",
              "      <td>21.0</td>\n",
              "      <td>23.2</td>\n",
              "      <td>0</td>\n",
              "      <td>0</td>\n",
              "      <td>2008</td>\n",
              "    </tr>\n",
              "    <tr>\n",
              "      <th>3</th>\n",
              "      <td>1</td>\n",
              "      <td>9.2</td>\n",
              "      <td>28.0</td>\n",
              "      <td>0.0</td>\n",
              "      <td>8.4</td>\n",
              "      <td>4</td>\n",
              "      <td>24.0</td>\n",
              "      <td>9</td>\n",
              "      <td>0</td>\n",
              "      <td>11.0</td>\n",
              "      <td>9.0</td>\n",
              "      <td>45.0</td>\n",
              "      <td>16.0</td>\n",
              "      <td>31.899843</td>\n",
              "      <td>31.824519</td>\n",
              "      <td>5.0</td>\n",
              "      <td>4.0</td>\n",
              "      <td>18.1</td>\n",
              "      <td>26.5</td>\n",
              "      <td>0</td>\n",
              "      <td>0</td>\n",
              "      <td>2008</td>\n",
              "    </tr>\n",
              "    <tr>\n",
              "      <th>4</th>\n",
              "      <td>1</td>\n",
              "      <td>17.5</td>\n",
              "      <td>32.3</td>\n",
              "      <td>1.0</td>\n",
              "      <td>8.4</td>\n",
              "      <td>13</td>\n",
              "      <td>41.0</td>\n",
              "      <td>1</td>\n",
              "      <td>7</td>\n",
              "      <td>7.0</td>\n",
              "      <td>20.0</td>\n",
              "      <td>82.0</td>\n",
              "      <td>33.0</td>\n",
              "      <td>31.793081</td>\n",
              "      <td>31.717503</td>\n",
              "      <td>7.0</td>\n",
              "      <td>8.0</td>\n",
              "      <td>17.8</td>\n",
              "      <td>29.7</td>\n",
              "      <td>0</td>\n",
              "      <td>0</td>\n",
              "      <td>2008</td>\n",
              "    </tr>\n",
              "  </tbody>\n",
              "</table>\n",
              "</div>"
            ],
            "text/plain": [
              "   Location  MinTemp  MaxTemp  Rainfall  ...  Temp3pm  RainToday  RainTomorrow  year\n",
              "0         1     13.4     22.9       0.6  ...     21.8          0             0  2008\n",
              "1         1      7.4     25.1       0.0  ...     24.3          0             0  2008\n",
              "2         1     12.9     25.7       0.0  ...     23.2          0             0  2008\n",
              "3         1      9.2     28.0       0.0  ...     26.5          0             0  2008\n",
              "4         1     17.5     32.3       1.0  ...     29.7          0             0  2008\n",
              "\n",
              "[5 rows x 22 columns]"
            ]
          },
          "metadata": {},
          "execution_count": 34
        }
      ]
    },
    {
      "cell_type": "code",
      "metadata": {
        "colab": {
          "base_uri": "https://localhost:8080/"
        },
        "id": "dl0t4Als7XCH",
        "outputId": "9d19a9a8-382a-465b-9f37-cc6c29876163"
      },
      "source": [
        "data[\"RainTomorrow\"].value_counts()"
      ],
      "execution_count": 36,
      "outputs": [
        {
          "output_type": "execute_result",
          "data": {
            "text/plain": [
              "0    102819\n",
              "1     28805\n",
              "Name: RainTomorrow, dtype: int64"
            ]
          },
          "metadata": {},
          "execution_count": 36
        }
      ]
    },
    {
      "cell_type": "markdown",
      "metadata": {
        "id": "GNHoTQ0R71GO"
      },
      "source": [
        "## From here we see that this is imbalanced Type of Machine learning if we go on "
      ]
    },
    {
      "cell_type": "code",
      "metadata": {
        "id": "7r_KXP8_7lAD"
      },
      "source": [
        "x=data.drop(columns=[\"RainTomorrow\"]).values\n",
        "y=data[\"RainTomorrow\"].values"
      ],
      "execution_count": 65,
      "outputs": []
    },
    {
      "cell_type": "code",
      "metadata": {
        "id": "rnuR6jd18NjO"
      },
      "source": [
        "x_train,x_test,y_train,y_test=train_test_split(x,y,test_size=0.2)"
      ],
      "execution_count": 66,
      "outputs": []
    },
    {
      "cell_type": "code",
      "metadata": {
        "colab": {
          "base_uri": "https://localhost:8080/",
          "height": 764,
          "referenced_widgets": [
            "dc221a83782841f59b4dd2209041840a",
            "72dc20f9e49f462dae69e126b35f4101",
            "7424cad726d940cebe42076ac97f4909",
            "2487c685e4f9428cba2ebb56d27d7142",
            "9e9458a7593c4df886809248f5a8685a",
            "27a0fc2ff0d044b6bf70cb974db3c74c",
            "54d8d88c5cbe471da50874aa5b0cd31e",
            "5366d9a874be4f748fe9e4440d1d13d6",
            "b1879e22985c4ac29a3e62de829cfc37",
            "5a446ffdad84453e9cf9827ace50b384"
          ]
        },
        "id": "eSC1SxRw8O04",
        "outputId": "f2cff4a0-d214-45cd-bc3a-37774a13a575"
      },
      "source": [
        "@interact_manual\n",
        "def Models(Model=[LogisticRegression(),RandomForestClassifier(),LinearDiscriminantAnalysis()]):\n",
        "  model=Model\n",
        "  model.fit(x_train,y_train)\n",
        "  pred=model.predict(x_test)\n",
        "  plt.rcParams[\"figure.figsize\"]=(15,5)\n",
        "  return (\n",
        "      print(f'Accuracy with {Model} is {model.score(x_test,y_test)}'),\n",
        "      print(\" \"),\n",
        "      print(sklearn.metrics.classification_report(y_test,pred)),\n",
        "      plt.subplot(1,2,1),\n",
        "      sns.countplot(y_test,color=\"green\"),\n",
        "      plt.title(\"Actual Data\"),\n",
        "      plt.subplot(1,2,2),\n",
        "      sns.countplot(pred,color=\"red\"),\n",
        "      plt.title(\"Predicted Data\"),\n",
        "      plt.show()\n",
        "  )"
      ],
      "execution_count": 67,
      "outputs": [
        {
          "output_type": "display_data",
          "data": {
            "application/vnd.jupyter.widget-view+json": {
              "model_id": "dc221a83782841f59b4dd2209041840a",
              "version_minor": 0,
              "version_major": 2
            },
            "text/plain": [
              "interactive(children=(Dropdown(description='Model', options=(LogisticRegression(), RandomForestClassifier(), L…"
            ]
          },
          "metadata": {}
        }
      ]
    },
    {
      "cell_type": "markdown",
      "metadata": {
        "id": "rJ1LmdnwAG4I"
      },
      "source": [
        "# Now After Balance the data "
      ]
    },
    {
      "cell_type": "code",
      "metadata": {
        "id": "SRGLRugq-Ox6"
      },
      "source": [
        "from imblearn.combine import SMOTEENN"
      ],
      "execution_count": 69,
      "outputs": []
    },
    {
      "cell_type": "code",
      "metadata": {
        "id": "Xw1iy43lAPLh"
      },
      "source": [
        "re_x,re_y=SMOTEENN().fit_resample(x,y)"
      ],
      "execution_count": 70,
      "outputs": []
    },
    {
      "cell_type": "code",
      "metadata": {
        "id": "eQWwY3q-Gwsv"
      },
      "source": [
        "import pickle\n",
        "pickle.dump(re_x,open(\"/content/drive/MyDrive/datasets/newdata1/RE_X.pkl\",\"wb\"))\n",
        "pickle.dump(re_y,open(\"/content/drive/MyDrive/datasets/newdata1/RE_Y.pkl\",\"wb\"))"
      ],
      "execution_count": 73,
      "outputs": []
    },
    {
      "cell_type": "code",
      "metadata": {
        "id": "OqSPovt_APOF"
      },
      "source": [
        "x_train,x_test,y_train,y_test=train_test_split(re_x,re_y,test_size=0.2)"
      ],
      "execution_count": 74,
      "outputs": []
    },
    {
      "cell_type": "markdown",
      "metadata": {
        "id": "l3D8QjN5AxNb"
      },
      "source": [
        "# Logistic Regression Model"
      ]
    },
    {
      "cell_type": "code",
      "metadata": {
        "colab": {
          "base_uri": "https://localhost:8080/"
        },
        "id": "X6Fjp7AjAPQr",
        "outputId": "e507a3d0-78f9-427a-9b33-864ac4eb75d1"
      },
      "source": [
        "model=LogisticRegression()\n",
        "model.fit(x_train,y_train)\n",
        "print(f'Accuracy is {model.score(x_test,y_test)}')\n",
        "print(\" \")\n",
        "print(classification_report(model.predict(x_test),y_test))"
      ],
      "execution_count": 75,
      "outputs": [
        {
          "output_type": "stream",
          "name": "stdout",
          "text": [
            "Accuracy is 0.8508007172447907\n",
            " \n",
            "              precision    recall  f1-score   support\n",
            "\n",
            "           0       0.83      0.81      0.82     13557\n",
            "           1       0.87      0.88      0.87     18789\n",
            "\n",
            "    accuracy                           0.85     32346\n",
            "   macro avg       0.85      0.85      0.85     32346\n",
            "weighted avg       0.85      0.85      0.85     32346\n",
            "\n"
          ]
        }
      ]
    },
    {
      "cell_type": "markdown",
      "metadata": {
        "id": "kSHPvn57BxuW"
      },
      "source": [
        "# LDA Model"
      ]
    },
    {
      "cell_type": "code",
      "metadata": {
        "colab": {
          "base_uri": "https://localhost:8080/"
        },
        "id": "bTb-X4gLBntt",
        "outputId": "2633f331-8987-46ef-92c2-b1b270313303"
      },
      "source": [
        "model=LinearDiscriminantAnalysis()\n",
        "model.fit(x_train,y_train)\n",
        "print(f'Accuracy is {model.score(x_test,y_test)}')\n",
        "print(\" \")\n",
        "print(classification_report(model.predict(x_test),y_test))"
      ],
      "execution_count": 76,
      "outputs": [
        {
          "output_type": "stream",
          "name": "stdout",
          "text": [
            "Accuracy is 0.860260928708341\n",
            " \n",
            "              precision    recall  f1-score   support\n",
            "\n",
            "           0       0.86      0.81      0.83     14009\n",
            "           1       0.86      0.89      0.88     18337\n",
            "\n",
            "    accuracy                           0.86     32346\n",
            "   macro avg       0.86      0.85      0.86     32346\n",
            "weighted avg       0.86      0.86      0.86     32346\n",
            "\n"
          ]
        }
      ]
    },
    {
      "cell_type": "markdown",
      "metadata": {
        "id": "lYMiD9lkBtqH"
      },
      "source": [
        "# Random Forest Model"
      ]
    },
    {
      "cell_type": "code",
      "metadata": {
        "colab": {
          "base_uri": "https://localhost:8080/"
        },
        "id": "jE9rEnz8AOHf",
        "outputId": "b28e9950-b4bb-4daf-81c7-75284f2ca3fb"
      },
      "source": [
        "model=RandomForestClassifier()\n",
        "model.fit(x_train,y_train)\n",
        "print(f'Accuracy is {model.score(x_test,y_test)}')\n",
        "print(\" \")\n",
        "print(classification_report(model.predict(x_test),y_test))"
      ],
      "execution_count": 77,
      "outputs": [
        {
          "output_type": "stream",
          "name": "stdout",
          "text": [
            "Accuracy is 0.9508130835342855\n",
            " \n",
            "              precision    recall  f1-score   support\n",
            "\n",
            "           0       0.94      0.94      0.94     13324\n",
            "           1       0.96      0.96      0.96     19022\n",
            "\n",
            "    accuracy                           0.95     32346\n",
            "   macro avg       0.95      0.95      0.95     32346\n",
            "weighted avg       0.95      0.95      0.95     32346\n",
            "\n"
          ]
        }
      ]
    },
    {
      "cell_type": "code",
      "metadata": {
        "id": "_BWui6igIXNz"
      },
      "source": [
        "pickle.dump(model,open(\"/content/drive/MyDrive/datasets/newdata1/RFC_Model.pkl\",\"wb\"))"
      ],
      "execution_count": 78,
      "outputs": []
    },
    {
      "cell_type": "code",
      "metadata": {
        "id": "Mx4Pk5SQIpEp"
      },
      "source": [
        ""
      ],
      "execution_count": null,
      "outputs": []
    }
  ]
}